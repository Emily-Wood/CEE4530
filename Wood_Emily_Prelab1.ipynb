{
  "nbformat": 4,
  "nbformat_minor": 0,
  "metadata": {
    "colab": {
      "name": "Wood_Emily_Prelab1.ipynb",
      "provenance": [],
      "collapsed_sections": [],
      "authorship_tag": "ABX9TyPSUA/uCKf2LdTsJlpR1zdC",
      "include_colab_link": true
    },
    "kernelspec": {
      "name": "python3",
      "display_name": "Python 3"
    }
  },
  "cells": [
    {
      "cell_type": "markdown",
      "metadata": {
        "id": "view-in-github",
        "colab_type": "text"
      },
      "source": [
        "<a href=\"https://colab.research.google.com/github/Emily-Wood/CEE4530/blob/master/Wood_Emily_Prelab1.ipynb\" target=\"_parent\"><img src=\"https://colab.research.google.com/assets/colab-badge.svg\" alt=\"Open In Colab\"/></a>"
      ]
    },
    {
      "cell_type": "markdown",
      "metadata": {
        "id": "Yq7tMFTkga8V",
        "colab_type": "text"
      },
      "source": [
        "# Emily Wood (2)\n",
        "\n",
        "29 January 2019\n",
        "\n",
        "CEE 4530\n",
        "\n",
        "Prelab 1"
      ]
    },
    {
      "cell_type": "markdown",
      "metadata": {
        "id": "R48vFi6wgnqO",
        "colab_type": "text"
      },
      "source": [
        "## Prelab Question 1\n",
        "\n",
        "One source of zinc ions is Zinc Chloride, with the chemical formula $ZnCl_2$. To create a 100 mL solution of 1 μM zinc, complete the following procedure:\n",
        "\n",
        "1. Measure out 0.136 g of $ZnCl_2$\n",
        "1. Place the $ZnCl_2$ in a 1 L volumetric flask, and add just enough water to dissolve it completely. Fill the flask completely to the 1 L mark to form the stock solution and mix well.\n",
        "1. Put 0.1 mL of the stock solution in a 100 mL volumetric flask. Add water until the total volume is 100 mL.\n",
        "\n",
        "It is possible that the chosen mass is too small to accurately measure if $ZnCl_2$ comes in a crystalline or granular form. In this case, increase the initial mass by a factor of 10 (1.36 g of $ZnCl_2$), and decrease the amount of stock solution used in step 3 by a factor of 10 (0.01 mL). This process can be repeated if it is not possible to get an accurate mass of $ZnCl_2$.\n",
        "\n"
      ]
    },
    {
      "cell_type": "markdown",
      "metadata": {
        "id": "y5bTNKTQn7e2",
        "colab_type": "text"
      },
      "source": [
        "## Prelab Question 2\n",
        "\n",
        "The density of sodium chloride solutions as a function of concentration is approximately 0.6985C+ρwater. What is the density of a 1 M solution of sodium chloride?\n",
        "\n",
        "$998.6985 \\space \\frac{kg}{m^3}$"
      ]
    }
  ]
}